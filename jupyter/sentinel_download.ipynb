{
 "cells": [
  {
   "cell_type": "code",
   "execution_count": 1,
   "metadata": {},
   "outputs": [],
   "source": [
    "import os\n",
    "import re\n",
    "from datetime import datetime\n",
    "from pathlib import Path\n",
    "import datetime\n",
    "import folium\n",
    "import shapely\n",
    "import json\n",
    "from sentinelsat import SentinelAPI, read_geojson, geojson_to_wkt\n",
    "import numpy as np\n",
    "\n",
    "import pandas as pd\n",
    "pd.set_option('display.max_columns', None)\n",
    "import geopandas as gpd"
   ]
  },
  {
   "cell_type": "code",
   "execution_count": 2,
   "metadata": {},
   "outputs": [],
   "source": [
    "DATA_PATH = Path('/home/io/ASTROSAT/code/data-team/notebooks/rice_paddy')"
   ]
  },
  {
   "cell_type": "markdown",
   "metadata": {},
   "source": [
    "### add username and password"
   ]
  },
  {
   "cell_type": "code",
   "execution_count": 3,
   "metadata": {},
   "outputs": [],
   "source": [
    "user = os.environ['user']\n",
    "password = os.environ['password']\n",
    "api_url = \"https://scihub.copernicus.eu/dhus/\""
   ]
  },
  {
   "cell_type": "code",
   "execution_count": 4,
   "metadata": {},
   "outputs": [],
   "source": [
    "# Sentinel-1 attributes\n",
    "s1_attr = {'product':{'S':'SLC', 'G':'GRD','O':'OCN'},\n",
    "           'orbit':{'A':'ascending', 'D':'descending'}\n",
    "          }"
   ]
  },
  {
   "cell_type": "markdown",
   "metadata": {},
   "source": [
    "### search for scenes"
   ]
  },
  {
   "cell_type": "code",
   "execution_count": 5,
   "metadata": {},
   "outputs": [
    {
     "name": "stdout",
     "output_type": "stream",
     "text": [
      "32 scenes have been found\n"
     ]
    }
   ],
   "source": [
    "# search by polygon in Geojson format\n",
    "footprint = geojson_to_wkt(read_geojson(DATA_PATH.joinpath('aoi','MADA.geojson')))\n",
    "# api query\n",
    "api = SentinelAPI(\n",
    "    user=user,\n",
    "    password=password,\n",
    "    api_url= api_url \n",
    ")\n",
    "# perform query based on date\n",
    "products = api.query(footprint,\n",
    "                     date=('20190201', '20190816'), \n",
    "                     platformname='Sentinel-1',\n",
    "                     producttype=s1_attr['product']['G'],\n",
    "                     orbitdirection=s1_attr['orbit']['A'],\n",
    "                     #relativeOrbitNumber=164\n",
    "                    )\n",
    "print (f'{len(products)} scenes have been found')\n",
    "    "
   ]
  },
  {
   "cell_type": "code",
   "execution_count": 6,
   "metadata": {},
   "outputs": [
    {
     "name": "stderr",
     "output_type": "stream",
     "text": [
      "/home/io/.local/share/virtualenvs/rice_paddy-iFSoDga7/lib/python3.6/site-packages/pyproj/crs/crs.py:53: FutureWarning: '+init=<authority>:<code>' syntax is deprecated. '<authority>:<code>' is the preferred initialization method. When making the change, be mindful of axis order changes: https://pyproj4.github.io/pyproj/stable/gotchas.html#axis-order-changes-in-proj-6\n",
      "  return _prepare_from_string(\" \".join(pjargs))\n"
     ]
    },
    {
     "data": {
      "text/html": [
       "<div>\n",
       "<style scoped>\n",
       "    .dataframe tbody tr th:only-of-type {\n",
       "        vertical-align: middle;\n",
       "    }\n",
       "\n",
       "    .dataframe tbody tr th {\n",
       "        vertical-align: top;\n",
       "    }\n",
       "\n",
       "    .dataframe thead th {\n",
       "        text-align: right;\n",
       "    }\n",
       "</style>\n",
       "<table border=\"1\" class=\"dataframe\">\n",
       "  <thead>\n",
       "    <tr style=\"text-align: right;\">\n",
       "      <th></th>\n",
       "      <th>title</th>\n",
       "      <th>link</th>\n",
       "      <th>link_alternative</th>\n",
       "      <th>link_icon</th>\n",
       "      <th>summary</th>\n",
       "      <th>beginposition</th>\n",
       "      <th>endposition</th>\n",
       "      <th>ingestiondate</th>\n",
       "      <th>missiondatatakeid</th>\n",
       "      <th>slicenumber</th>\n",
       "      <th>orbitnumber</th>\n",
       "      <th>lastorbitnumber</th>\n",
       "      <th>relativeorbitnumber</th>\n",
       "      <th>lastrelativeorbitnumber</th>\n",
       "      <th>sensoroperationalmode</th>\n",
       "      <th>swathidentifier</th>\n",
       "      <th>orbitdirection</th>\n",
       "      <th>producttype</th>\n",
       "      <th>timeliness</th>\n",
       "      <th>platformname</th>\n",
       "      <th>platformidentifier</th>\n",
       "      <th>instrumentname</th>\n",
       "      <th>instrumentshortname</th>\n",
       "      <th>filename</th>\n",
       "      <th>format</th>\n",
       "      <th>productclass</th>\n",
       "      <th>polarisationmode</th>\n",
       "      <th>acquisitiontype</th>\n",
       "      <th>status</th>\n",
       "      <th>size</th>\n",
       "      <th>identifier</th>\n",
       "      <th>uuid</th>\n",
       "      <th>geometry</th>\n",
       "    </tr>\n",
       "  </thead>\n",
       "  <tbody>\n",
       "    <tr>\n",
       "      <th>e3752352-0dcd-48b1-83cf-1e5af1bdc6d3</th>\n",
       "      <td>S1A_IW_GRDH_1SDV_20190809T113445_20190809T1135...</td>\n",
       "      <td>https://scihub.copernicus.eu/dhus/odata/v1/Pro...</td>\n",
       "      <td>https://scihub.copernicus.eu/dhus/odata/v1/Pro...</td>\n",
       "      <td>https://scihub.copernicus.eu/dhus/odata/v1/Pro...</td>\n",
       "      <td>Date: 2019-08-09T11:34:45.912Z, Instrument: SA...</td>\n",
       "      <td>2019-08-09 11:34:45.912</td>\n",
       "      <td>2019-08-09 11:35:10.909</td>\n",
       "      <td>2019-08-09 16:29:27.507</td>\n",
       "      <td>211068</td>\n",
       "      <td>8</td>\n",
       "      <td>28492</td>\n",
       "      <td>28492</td>\n",
       "      <td>70</td>\n",
       "      <td>70</td>\n",
       "      <td>IW</td>\n",
       "      <td>IW</td>\n",
       "      <td>ASCENDING</td>\n",
       "      <td>GRD</td>\n",
       "      <td>Fast-24h</td>\n",
       "      <td>Sentinel-1</td>\n",
       "      <td>2014-016A</td>\n",
       "      <td>Synthetic Aperture Radar (C-band)</td>\n",
       "      <td>SAR-C SAR</td>\n",
       "      <td>S1A_IW_GRDH_1SDV_20190809T113445_20190809T1135...</td>\n",
       "      <td>SAFE</td>\n",
       "      <td>S</td>\n",
       "      <td>VV VH</td>\n",
       "      <td>NOMINAL</td>\n",
       "      <td>ARCHIVED</td>\n",
       "      <td>1.61 GB</td>\n",
       "      <td>S1A_IW_GRDH_1SDV_20190809T113445_20190809T1135...</td>\n",
       "      <td>e3752352-0dcd-48b1-83cf-1e5af1bdc6d3</td>\n",
       "      <td>MULTIPOLYGON (((99.28992 4.40835, 101.56293 4....</td>\n",
       "    </tr>\n",
       "    <tr>\n",
       "      <th>03386767-c73d-44a7-bf88-bd38491fde15</th>\n",
       "      <td>S1A_IW_GRDH_1SDV_20190809T113510_20190809T1135...</td>\n",
       "      <td>https://scihub.copernicus.eu/dhus/odata/v1/Pro...</td>\n",
       "      <td>https://scihub.copernicus.eu/dhus/odata/v1/Pro...</td>\n",
       "      <td>https://scihub.copernicus.eu/dhus/odata/v1/Pro...</td>\n",
       "      <td>Date: 2019-08-09T11:35:10.911Z, Instrument: SA...</td>\n",
       "      <td>2019-08-09 11:35:10.911</td>\n",
       "      <td>2019-08-09 11:35:35.910</td>\n",
       "      <td>2019-08-09 16:29:23.947</td>\n",
       "      <td>211068</td>\n",
       "      <td>9</td>\n",
       "      <td>28492</td>\n",
       "      <td>28492</td>\n",
       "      <td>70</td>\n",
       "      <td>70</td>\n",
       "      <td>IW</td>\n",
       "      <td>IW</td>\n",
       "      <td>ASCENDING</td>\n",
       "      <td>GRD</td>\n",
       "      <td>Fast-24h</td>\n",
       "      <td>Sentinel-1</td>\n",
       "      <td>2014-016A</td>\n",
       "      <td>Synthetic Aperture Radar (C-band)</td>\n",
       "      <td>SAR-C SAR</td>\n",
       "      <td>S1A_IW_GRDH_1SDV_20190809T113510_20190809T1135...</td>\n",
       "      <td>SAFE</td>\n",
       "      <td>S</td>\n",
       "      <td>VV VH</td>\n",
       "      <td>NOMINAL</td>\n",
       "      <td>ARCHIVED</td>\n",
       "      <td>1.61 GB</td>\n",
       "      <td>S1A_IW_GRDH_1SDV_20190809T113510_20190809T1135...</td>\n",
       "      <td>03386767-c73d-44a7-bf88-bd38491fde15</td>\n",
       "      <td>MULTIPOLYGON (((98.97773 5.92069, 101.25681 6....</td>\n",
       "    </tr>\n",
       "    <tr>\n",
       "      <th>4f87519e-9e8d-4210-a7d1-e21699505552</th>\n",
       "      <td>S1A_IW_GRDH_1SDV_20190728T113444_20190728T1135...</td>\n",
       "      <td>https://scihub.copernicus.eu/dhus/odata/v1/Pro...</td>\n",
       "      <td>https://scihub.copernicus.eu/dhus/odata/v1/Pro...</td>\n",
       "      <td>https://scihub.copernicus.eu/dhus/odata/v1/Pro...</td>\n",
       "      <td>Date: 2019-07-28T11:34:44.949Z, Instrument: SA...</td>\n",
       "      <td>2019-07-28 11:34:44.949</td>\n",
       "      <td>2019-07-28 11:35:09.948</td>\n",
       "      <td>2019-07-28 15:08:35.812</td>\n",
       "      <td>209681</td>\n",
       "      <td>8</td>\n",
       "      <td>28317</td>\n",
       "      <td>28317</td>\n",
       "      <td>70</td>\n",
       "      <td>70</td>\n",
       "      <td>IW</td>\n",
       "      <td>IW</td>\n",
       "      <td>ASCENDING</td>\n",
       "      <td>GRD</td>\n",
       "      <td>Fast-24h</td>\n",
       "      <td>Sentinel-1</td>\n",
       "      <td>2014-016A</td>\n",
       "      <td>Synthetic Aperture Radar (C-band)</td>\n",
       "      <td>SAR-C SAR</td>\n",
       "      <td>S1A_IW_GRDH_1SDV_20190728T113444_20190728T1135...</td>\n",
       "      <td>SAFE</td>\n",
       "      <td>S</td>\n",
       "      <td>VV VH</td>\n",
       "      <td>NOMINAL</td>\n",
       "      <td>ARCHIVED</td>\n",
       "      <td>1.61 GB</td>\n",
       "      <td>S1A_IW_GRDH_1SDV_20190728T113444_20190728T1135...</td>\n",
       "      <td>4f87519e-9e8d-4210-a7d1-e21699505552</td>\n",
       "      <td>MULTIPOLYGON (((99.29038 4.40817, 101.56340 4....</td>\n",
       "    </tr>\n",
       "  </tbody>\n",
       "</table>\n",
       "</div>"
      ],
      "text/plain": [
       "                                                                                  title  \\\n",
       "e3752352-0dcd-48b1-83cf-1e5af1bdc6d3  S1A_IW_GRDH_1SDV_20190809T113445_20190809T1135...   \n",
       "03386767-c73d-44a7-bf88-bd38491fde15  S1A_IW_GRDH_1SDV_20190809T113510_20190809T1135...   \n",
       "4f87519e-9e8d-4210-a7d1-e21699505552  S1A_IW_GRDH_1SDV_20190728T113444_20190728T1135...   \n",
       "\n",
       "                                                                                   link  \\\n",
       "e3752352-0dcd-48b1-83cf-1e5af1bdc6d3  https://scihub.copernicus.eu/dhus/odata/v1/Pro...   \n",
       "03386767-c73d-44a7-bf88-bd38491fde15  https://scihub.copernicus.eu/dhus/odata/v1/Pro...   \n",
       "4f87519e-9e8d-4210-a7d1-e21699505552  https://scihub.copernicus.eu/dhus/odata/v1/Pro...   \n",
       "\n",
       "                                                                       link_alternative  \\\n",
       "e3752352-0dcd-48b1-83cf-1e5af1bdc6d3  https://scihub.copernicus.eu/dhus/odata/v1/Pro...   \n",
       "03386767-c73d-44a7-bf88-bd38491fde15  https://scihub.copernicus.eu/dhus/odata/v1/Pro...   \n",
       "4f87519e-9e8d-4210-a7d1-e21699505552  https://scihub.copernicus.eu/dhus/odata/v1/Pro...   \n",
       "\n",
       "                                                                              link_icon  \\\n",
       "e3752352-0dcd-48b1-83cf-1e5af1bdc6d3  https://scihub.copernicus.eu/dhus/odata/v1/Pro...   \n",
       "03386767-c73d-44a7-bf88-bd38491fde15  https://scihub.copernicus.eu/dhus/odata/v1/Pro...   \n",
       "4f87519e-9e8d-4210-a7d1-e21699505552  https://scihub.copernicus.eu/dhus/odata/v1/Pro...   \n",
       "\n",
       "                                                                                summary  \\\n",
       "e3752352-0dcd-48b1-83cf-1e5af1bdc6d3  Date: 2019-08-09T11:34:45.912Z, Instrument: SA...   \n",
       "03386767-c73d-44a7-bf88-bd38491fde15  Date: 2019-08-09T11:35:10.911Z, Instrument: SA...   \n",
       "4f87519e-9e8d-4210-a7d1-e21699505552  Date: 2019-07-28T11:34:44.949Z, Instrument: SA...   \n",
       "\n",
       "                                               beginposition  \\\n",
       "e3752352-0dcd-48b1-83cf-1e5af1bdc6d3 2019-08-09 11:34:45.912   \n",
       "03386767-c73d-44a7-bf88-bd38491fde15 2019-08-09 11:35:10.911   \n",
       "4f87519e-9e8d-4210-a7d1-e21699505552 2019-07-28 11:34:44.949   \n",
       "\n",
       "                                                 endposition  \\\n",
       "e3752352-0dcd-48b1-83cf-1e5af1bdc6d3 2019-08-09 11:35:10.909   \n",
       "03386767-c73d-44a7-bf88-bd38491fde15 2019-08-09 11:35:35.910   \n",
       "4f87519e-9e8d-4210-a7d1-e21699505552 2019-07-28 11:35:09.948   \n",
       "\n",
       "                                               ingestiondate  \\\n",
       "e3752352-0dcd-48b1-83cf-1e5af1bdc6d3 2019-08-09 16:29:27.507   \n",
       "03386767-c73d-44a7-bf88-bd38491fde15 2019-08-09 16:29:23.947   \n",
       "4f87519e-9e8d-4210-a7d1-e21699505552 2019-07-28 15:08:35.812   \n",
       "\n",
       "                                      missiondatatakeid  slicenumber  \\\n",
       "e3752352-0dcd-48b1-83cf-1e5af1bdc6d3             211068            8   \n",
       "03386767-c73d-44a7-bf88-bd38491fde15             211068            9   \n",
       "4f87519e-9e8d-4210-a7d1-e21699505552             209681            8   \n",
       "\n",
       "                                      orbitnumber  lastorbitnumber  \\\n",
       "e3752352-0dcd-48b1-83cf-1e5af1bdc6d3        28492            28492   \n",
       "03386767-c73d-44a7-bf88-bd38491fde15        28492            28492   \n",
       "4f87519e-9e8d-4210-a7d1-e21699505552        28317            28317   \n",
       "\n",
       "                                      relativeorbitnumber  \\\n",
       "e3752352-0dcd-48b1-83cf-1e5af1bdc6d3                   70   \n",
       "03386767-c73d-44a7-bf88-bd38491fde15                   70   \n",
       "4f87519e-9e8d-4210-a7d1-e21699505552                   70   \n",
       "\n",
       "                                      lastrelativeorbitnumber  \\\n",
       "e3752352-0dcd-48b1-83cf-1e5af1bdc6d3                       70   \n",
       "03386767-c73d-44a7-bf88-bd38491fde15                       70   \n",
       "4f87519e-9e8d-4210-a7d1-e21699505552                       70   \n",
       "\n",
       "                                     sensoroperationalmode swathidentifier  \\\n",
       "e3752352-0dcd-48b1-83cf-1e5af1bdc6d3                    IW              IW   \n",
       "03386767-c73d-44a7-bf88-bd38491fde15                    IW              IW   \n",
       "4f87519e-9e8d-4210-a7d1-e21699505552                    IW              IW   \n",
       "\n",
       "                                     orbitdirection producttype timeliness  \\\n",
       "e3752352-0dcd-48b1-83cf-1e5af1bdc6d3      ASCENDING         GRD   Fast-24h   \n",
       "03386767-c73d-44a7-bf88-bd38491fde15      ASCENDING         GRD   Fast-24h   \n",
       "4f87519e-9e8d-4210-a7d1-e21699505552      ASCENDING         GRD   Fast-24h   \n",
       "\n",
       "                                     platformname platformidentifier  \\\n",
       "e3752352-0dcd-48b1-83cf-1e5af1bdc6d3   Sentinel-1          2014-016A   \n",
       "03386767-c73d-44a7-bf88-bd38491fde15   Sentinel-1          2014-016A   \n",
       "4f87519e-9e8d-4210-a7d1-e21699505552   Sentinel-1          2014-016A   \n",
       "\n",
       "                                                         instrumentname  \\\n",
       "e3752352-0dcd-48b1-83cf-1e5af1bdc6d3  Synthetic Aperture Radar (C-band)   \n",
       "03386767-c73d-44a7-bf88-bd38491fde15  Synthetic Aperture Radar (C-band)   \n",
       "4f87519e-9e8d-4210-a7d1-e21699505552  Synthetic Aperture Radar (C-band)   \n",
       "\n",
       "                                     instrumentshortname  \\\n",
       "e3752352-0dcd-48b1-83cf-1e5af1bdc6d3           SAR-C SAR   \n",
       "03386767-c73d-44a7-bf88-bd38491fde15           SAR-C SAR   \n",
       "4f87519e-9e8d-4210-a7d1-e21699505552           SAR-C SAR   \n",
       "\n",
       "                                                                               filename  \\\n",
       "e3752352-0dcd-48b1-83cf-1e5af1bdc6d3  S1A_IW_GRDH_1SDV_20190809T113445_20190809T1135...   \n",
       "03386767-c73d-44a7-bf88-bd38491fde15  S1A_IW_GRDH_1SDV_20190809T113510_20190809T1135...   \n",
       "4f87519e-9e8d-4210-a7d1-e21699505552  S1A_IW_GRDH_1SDV_20190728T113444_20190728T1135...   \n",
       "\n",
       "                                     format productclass polarisationmode  \\\n",
       "e3752352-0dcd-48b1-83cf-1e5af1bdc6d3   SAFE            S            VV VH   \n",
       "03386767-c73d-44a7-bf88-bd38491fde15   SAFE            S            VV VH   \n",
       "4f87519e-9e8d-4210-a7d1-e21699505552   SAFE            S            VV VH   \n",
       "\n",
       "                                     acquisitiontype    status     size  \\\n",
       "e3752352-0dcd-48b1-83cf-1e5af1bdc6d3         NOMINAL  ARCHIVED  1.61 GB   \n",
       "03386767-c73d-44a7-bf88-bd38491fde15         NOMINAL  ARCHIVED  1.61 GB   \n",
       "4f87519e-9e8d-4210-a7d1-e21699505552         NOMINAL  ARCHIVED  1.61 GB   \n",
       "\n",
       "                                                                             identifier  \\\n",
       "e3752352-0dcd-48b1-83cf-1e5af1bdc6d3  S1A_IW_GRDH_1SDV_20190809T113445_20190809T1135...   \n",
       "03386767-c73d-44a7-bf88-bd38491fde15  S1A_IW_GRDH_1SDV_20190809T113510_20190809T1135...   \n",
       "4f87519e-9e8d-4210-a7d1-e21699505552  S1A_IW_GRDH_1SDV_20190728T113444_20190728T1135...   \n",
       "\n",
       "                                                                      uuid  \\\n",
       "e3752352-0dcd-48b1-83cf-1e5af1bdc6d3  e3752352-0dcd-48b1-83cf-1e5af1bdc6d3   \n",
       "03386767-c73d-44a7-bf88-bd38491fde15  03386767-c73d-44a7-bf88-bd38491fde15   \n",
       "4f87519e-9e8d-4210-a7d1-e21699505552  4f87519e-9e8d-4210-a7d1-e21699505552   \n",
       "\n",
       "                                                                               geometry  \n",
       "e3752352-0dcd-48b1-83cf-1e5af1bdc6d3  MULTIPOLYGON (((99.28992 4.40835, 101.56293 4....  \n",
       "03386767-c73d-44a7-bf88-bd38491fde15  MULTIPOLYGON (((98.97773 5.92069, 101.25681 6....  \n",
       "4f87519e-9e8d-4210-a7d1-e21699505552  MULTIPOLYGON (((99.29038 4.40817, 101.56340 4....  "
      ]
     },
     "execution_count": 6,
     "metadata": {},
     "output_type": "execute_result"
    }
   ],
   "source": [
    "# convert to Pandas DataFrame\n",
    "products_df = api.to_geodataframe(products)\n",
    "products_df[:3]"
   ]
  },
  {
   "cell_type": "markdown",
   "metadata": {},
   "source": [
    "### Product metadata"
   ]
  },
  {
   "cell_type": "code",
   "execution_count": 7,
   "metadata": {},
   "outputs": [],
   "source": [
    "uuid = products_df['uuid'][0]\n",
    "product_meta = api.get_product_odata(uuid, full=True)"
   ]
  },
  {
   "cell_type": "markdown",
   "metadata": {},
   "source": [
    "### Folium - add data on the map"
   ]
  },
  {
   "cell_type": "code",
   "execution_count": 13,
   "metadata": {},
   "outputs": [],
   "source": [
    "aoi = DATA_PATH.joinpath('aoi','MADA.geojson')"
   ]
  },
  {
   "cell_type": "code",
   "execution_count": 14,
   "metadata": {},
   "outputs": [],
   "source": [
    "gdf = gpd.read_file(aoi)"
   ]
  },
  {
   "cell_type": "markdown",
   "metadata": {},
   "source": [
    "#### Convert shapefile to Geojson"
   ]
  },
  {
   "cell_type": "code",
   "execution_count": 15,
   "metadata": {},
   "outputs": [],
   "source": [
    "# FIX the error: datetime.datetime(...) is not JSON serializable\n",
    "# https://code-maven.com/serialize-datetime-object-as-json-in-python\n",
    "def myconverter(o):\n",
    "    if isinstance(o, datetime.datetime):\n",
    "        return o.__str__()\n",
    "    \n",
    "scenes = json.dumps(shapely.geometry.mapping(products_df), default = myconverter)"
   ]
  },
  {
   "cell_type": "code",
   "execution_count": 16,
   "metadata": {},
   "outputs": [
    {
     "data": {
      "text/html": [
       "<div style=\"width:100%;\"><div style=\"position:relative;width:100%;height:0;padding-bottom:60%;\"><span style=\"color:#565656\">Make this Notebook Trusted to load map: File -> Trust Notebook</span><iframe src=\"about:blank\" style=\"position:absolute;width:100%;height:100%;left:0;top:0;border:none !important;\" data-html=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 onload=\"this.contentDocument.open();this.contentDocument.write(atob(this.getAttribute('data-html')));this.contentDocument.close();\" allowfullscreen webkitallowfullscreen mozallowfullscreen></iframe></div></div>"
      ],
      "text/plain": [
       "<folium.folium.Map at 0x7f96bcfe8358>"
      ]
     },
     "execution_count": 16,
     "metadata": {},
     "output_type": "execute_result"
    }
   ],
   "source": [
    "# Locate AOI on the map\n",
    "location = [6.10, 100.3]\n",
    "m = folium.Map(location=location,\n",
    "               zoom_start=8,\n",
    "               name='Basemap'\n",
    "              )\n",
    "\n",
    "# overlay Sentinel-1 scenes\n",
    "folium.GeoJson(\n",
    "    scenes,\n",
    "    name='Sentinel-1 scenes',\n",
    "    # polygon styling: https://gist.github.com/wrobstory/5609786\n",
    "    style_function= lambda x :{'fillColor':'grey', \n",
    "                               'fillOpacity': 0.3, \n",
    "                               'color':'black',\n",
    "                               'weight': 1\n",
    "                              }\n",
    ").add_to(m)\n",
    "\n",
    "\n",
    "# overlay our AOI\n",
    "folium.GeoJson(\n",
    "    gdf,\n",
    "    name='MADA Region',\n",
    ").add_to(m)\n",
    "\n",
    "\n",
    "folium.map.LayerControl('topright', \n",
    "                        collapsed=False\n",
    ").add_to(m)\n",
    "m"
   ]
  },
  {
   "cell_type": "markdown",
   "metadata": {},
   "source": [
    "### Check if the prodcut is online or a [Long Term Archive (LTA)](https://scihub.copernicus.eu/userguide/LongTermArchive)\n",
    "- Download products acquired in specific days"
   ]
  },
  {
   "cell_type": "code",
   "execution_count": 7,
   "metadata": {},
   "outputs": [
    {
     "name": "stdout",
     "output_type": "stream",
     "text": [
      "Product S1A_IW_GRDH_1SDV_20190216T230258_20190216T230323_025961_02E462_02EF is not online.\n",
      "Product S1A_IW_GRDH_1SDV_20190216T230323_20190216T230348_025961_02E462_9A02 is not online.\n",
      "Product S1A_IW_GRDH_1SDV_20190204T230323_20190204T230348_025786_02DE30_9862 is not online.\n",
      "Product S1A_IW_GRDH_1SDV_20190204T230258_20190204T230323_025786_02DE30_244E is not online.\n",
      "Product S1A_IW_GRDH_1SDV_20190123T230324_20190123T230349_025611_02D7D5_2EB3 is not online.\n",
      "Product S1A_IW_GRDH_1SDV_20190123T230259_20190123T230324_025611_02D7D5_8FAD is not online.\n",
      "Product S1A_IW_GRDH_1SDV_20190111T230324_20190111T230349_025436_02D172_28AB is not online.\n",
      "Product S1A_IW_GRDH_1SDV_20190111T230259_20190111T230324_025436_02D172_48DB is not online.\n"
     ]
    }
   ],
   "source": [
    "for i, row in products_df.iterrows():\n",
    "    product = row[['title','uuid','beginposition']]\n",
    "    # convert datatime to string\n",
    "    date = product['beginposition']\n",
    "    date_str = date.strftime('%Y-%m-%d')\n",
    "    uuid = product['uuid']\n",
    "    product_meta = api.get_product_odata(uuid)\n",
    "    if product_meta['Online']:\n",
    "        print('Product {} is online.'.format(product_meta['title']))\n",
    "        # if online, download it\n",
    "        #api.download(product['uuid'], DATA_PATH.joinpath('output'))\n",
    "    else:\n",
    "        print('Product {} is not online.'.format(product_meta['title']))\n",
    "        \n",
    "#     # specify speciftc date to download\n",
    "#     dates = ['2019-09-20','2019-09-08']\n",
    "#     for d in dates:\n",
    "#         if d in date_str:\n",
    "#             # get product metadata\n",
    "#             meta = api.get_product_odata(uuid)\n",
    "#             if meta['Online']:\n",
    "#                 print('Product {} is online.'.format(meta['title']))\n",
    "#                 # if online, download it\n",
    "#                 #api.download(product['uuid'], DATA_PATH.joinpath('output'))\n",
    "#             else:\n",
    "#                 print('Product {} is not online.'.format(meta['title']))"
   ]
  },
  {
   "cell_type": "code",
   "execution_count": null,
   "metadata": {},
   "outputs": [],
   "source": []
  },
  {
   "cell_type": "code",
   "execution_count": null,
   "metadata": {},
   "outputs": [],
   "source": []
  },
  {
   "cell_type": "code",
   "execution_count": null,
   "metadata": {},
   "outputs": [],
   "source": []
  }
 ],
 "metadata": {
  "kernelspec": {
   "display_name": "Python 3",
   "language": "python",
   "name": "python3"
  },
  "language_info": {
   "codemirror_mode": {
    "name": "ipython",
    "version": 3
   },
   "file_extension": ".py",
   "mimetype": "text/x-python",
   "name": "python",
   "nbconvert_exporter": "python",
   "pygments_lexer": "ipython3",
   "version": "3.6.10"
  }
 },
 "nbformat": 4,
 "nbformat_minor": 4
}
